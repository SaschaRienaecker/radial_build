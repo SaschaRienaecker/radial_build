{
 "cells": [
  {
   "cell_type": "code",
   "execution_count": 1,
   "metadata": {},
   "outputs": [],
   "source": [
    "%matplotlib widget\n",
    "import numpy as np\n",
    "import matplotlib.pyplot as plt\n",
    "from scipy.constants import *"
   ]
  },
  {
   "cell_type": "code",
   "execution_count": 9,
   "metadata": {},
   "outputs": [],
   "source": [
    "# machine performance\n",
    "P_fus = 500\n",
    "Q = 10\n",
    "# plasma geometry\n",
    "lam = 4.94\n",
    "kappa = 1.7\n",
    "eps = 0.3226\n",
    "delta = 0.33\n",
    "# plasma parameters\n",
    "q_a = 3\n",
    "y_rad = 0.7\n",
    "n_N = 0.85\n",
    "\n",
    "# coefficients (fixed)\n",
    "C_I = 13.144\n",
    "C_beta = 0.726\n",
    "C_fus = 1.38e-3\n",
    "C_loss = 0.086\n",
    "C_SL = 0.0562\n",
    "C_n = 3.183\n",
    "M = 2.55\n",
    "\n",
    "def rhs_fus(beta_N):\n",
    "    rhs = P_fus / (C_fus * C_I**2 / C_beta**2 * kappa * eps**4 / q_a**2 * beta_N**2)\n",
    "    return rhs\n",
    "\n",
    "def rhs_bal(beta_N):\n",
    "    rhs =    (C_loss / y_rad / C_fus * Q / (1 + Q/lam) )**0.31 \\\n",
    "           / (C_SL * C_n**0.41 * C_I**0.96 * C_beta**0.38 * C_loss**(-0.69) * M**0.19\n",
    "              * kappa**0.09 * eps**0.68 * q_a**(-0.96) * n_N**0.41 * beta_N**(-0.38) )\n",
    "    return rhs\n",
    "\n",
    "def R_fus(B, beta_N):\n",
    "    return (rhs_fus(beta_N) / B**4 )**(1/3)\n",
    "\n",
    "def B_bal(R, beta_N):\n",
    "    return (rhs_bal * R**(-0.42) )**(1/0.73)\n",
    "\n",
    "def R_sol(beta_N):\n",
    "    a1 = rhs_fus(beta_N)\n",
    "    a2 = rhs_bal(beta_N)\n",
    "    return (a1 / a2**(4/0.73) )**1.43\n",
    "\n",
    "def B_sol(beta_N):\n",
    "    a2 = rhs_bal(beta_N)\n",
    "    return (a2 * R_sol(beta_N)**(-0.42) )**(1/0.73)"
   ]
  },
  {
   "cell_type": "markdown",
   "metadata": {},
   "source": [
    "We choose $\\beta_N=1.695$ and obtain the associated couple ($R_0,B_0$)"
   ]
  },
  {
   "cell_type": "code",
   "execution_count": 10,
   "metadata": {},
   "outputs": [
    {
     "name": "stdout",
     "output_type": "stream",
     "text": [
      "5.993341439520774 5.4349344860973705\n"
     ]
    }
   ],
   "source": [
    "beta_N = 1.695\n",
    "B0 = B_sol(beta_N)\n",
    "R0 = R_sol(beta_N)\n",
    "print(R0, B0)"
   ]
  },
  {
   "cell_type": "markdown",
   "metadata": {},
   "source": [
    "What is the outer position of the TF coil? We take $\\Delta_{int}=1.23\\,$m as the distance between the LCFS and the the TF coil. We then have simply:\n",
    "$$\n",
    "R_e = R_0 - a - \\Delta_{int}, \\quad \\text{with} \\,\\, a = \\epsilon R_0\n",
    "$$"
   ]
  },
  {
   "cell_type": "code",
   "execution_count": 11,
   "metadata": {},
   "outputs": [
    {
     "data": {
      "text/plain": [
       "2.829889491131372"
      ]
     },
     "execution_count": 11,
     "metadata": {},
     "output_type": "execute_result"
    }
   ],
   "source": [
    "a = eps * R0\n",
    "Delta_int = 1.23\n",
    "R_e = R0 - a - Delta_int\n",
    "R_e"
   ]
  },
  {
   "cell_type": "code",
   "execution_count": 12,
   "metadata": {},
   "outputs": [
    {
     "data": {
      "text/plain": [
       "11.510491197161645"
      ]
     },
     "execution_count": 12,
     "metadata": {},
     "output_type": "execute_result"
    }
   ],
   "source": [
    "B_e = B0 * R0 / R_e\n",
    "B_e"
   ]
  },
  {
   "cell_type": "markdown",
   "metadata": {},
   "source": [
    "We could also plot the curve as function of $\\beta_N$."
   ]
  },
  {
   "cell_type": "code",
   "execution_count": 13,
   "metadata": {},
   "outputs": [
    {
     "data": {
      "text/plain": [
       "11.510491197161645"
      ]
     },
     "execution_count": 13,
     "metadata": {},
     "output_type": "execute_result"
    }
   ],
   "source": [
    "def B_at_TF_coil(beta_N):\n",
    "    R_e = R_sol(beta_N) * (1 - eps) - Delta_int\n",
    "    return B_sol(beta_N) * R_sol(beta_N) / R_e\n",
    "B_tmax = B_at_TF_coil(beta_N)\n",
    "B_tmax"
   ]
  },
  {
   "cell_type": "code",
   "execution_count": 17,
   "metadata": {},
   "outputs": [
    {
     "data": {
      "text/plain": [
       "Text(432.62626262626253, 0.5, 'applied field $B_\\\\mathrm{TF}$ [T]')"
      ]
     },
     "execution_count": 17,
     "metadata": {},
     "output_type": "execute_result"
    },
    {
     "data": {
      "application/vnd.jupyter.widget-view+json": {
       "model_id": "52b2849119c04da08c2a361ae2722fef",
       "version_major": 2,
       "version_minor": 0
      },
      "text/html": [
       "\n",
       "            <div style=\"display: inline-block;\">\n",
       "                <div class=\"jupyter-widgets widget-label\" style=\"text-align: center;\">\n",
       "                    Figure\n",
       "                </div>\n",
       "                <img src='data:image/png;base64,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' width=800.0/>\n",
       "            </div>\n",
       "        "
      ],
      "text/plain": [
       "Canvas(toolbar=Toolbar(toolitems=[('Home', 'Reset original view', 'home', 'home'), ('Back', 'Back to previous …"
      ]
     },
     "metadata": {},
     "output_type": "display_data"
    }
   ],
   "source": [
    "\n",
    "fig, [ax, ax2] = plt.subplots(1,2, sharey=True, figsize=(8,3))\n",
    "\n",
    "Beta_N = np.linspace(1.5,1.8,50)\n",
    "ax.plot(Beta_N, R_sol(Beta_N), label='$R_0$ [m]')\n",
    "ax.plot(Beta_N, B_sol(Beta_N), label='$B_0$ [T]')\n",
    "ax.plot(Beta_N, B_at_TF_coil(Beta_N), label='$B_{\\mathrm{TF}}$ [T]')\n",
    "\n",
    "ax.set_xlabel(r'$\\beta_N$')\n",
    "ax.legend()\n",
    "plt.tight_layout()\n",
    "\n",
    "width = 0.1\n",
    "dsep = 0.2\n",
    "\n",
    "\n",
    "materials = ['Nb-Ti', 'Nb$_3$Sn']\n",
    "B_min = [0, 12]\n",
    "B_max = [11, 19]\n",
    "cols = ['purple', 'red']\n",
    "nmat = len(materials)\n",
    "\n",
    "X = np.arange(nmat)\n",
    "\n",
    "for i in range(len(materials)):\n",
    "    rect, = ax2.bar(X[i], B_max[i], width, bottom=B_min[i], color=cols[i])\n",
    "    #autolabel(ax2, rect, materials[i], bottom=B_min[i])\n",
    "\n",
    "\n",
    "ax2.set_xticks(X)\n",
    "ax2.set_xticklabels(materials)\n",
    "ax2.yaxis.set_label_position(\"right\")\n",
    "ax2.yaxis.tick_right()\n",
    "ax2.set_ylabel('applied field $B_\\mathrm{TF}$ [T]')"
   ]
  },
  {
   "cell_type": "markdown",
   "metadata": {
    "tags": []
   },
   "source": [
    "### Current\n",
    "$$\\mu_0 (N I)_\\mathrm{tot} = 2 \\pi R B$$"
   ]
  },
  {
   "cell_type": "markdown",
   "metadata": {},
   "source": [
    "### Ripple ###\n",
    "Ripple = $\\left( \\frac{R_0 + a}{r_2} \\right)^{N_\\mathrm{TF}}$\n",
    "Should stay below $1\\%$. The outer distance between two TF coils should be $d_\\text{TFC}=3.5\\,$T."
   ]
  },
  {
   "cell_type": "code",
   "execution_count": 18,
   "metadata": {},
   "outputs": [
    {
     "name": "stdout",
     "output_type": "stream",
     "text": [
      "19 10.58380371561104\n"
     ]
    }
   ],
   "source": [
    "def ripple(N_TF, R0, eps, d_TFC):\n",
    "    return (R0 * (1 + eps) / (N_TF * d_TFC / 2 / pi) )**N_TF\n",
    "def get_N_TF(R0, eps, d_TFC, max_ripple=0.01):\n",
    "    _NTF = np.arange(1,50)\n",
    "    Ripple = ripple(_NTF, R0, eps, d_TFC)\n",
    "    return _NTF[Ripple < 0.01].min()\n",
    "def get_R2(N_TF, d_TFC):\n",
    "    return N_TF * d_TFC / 2 / pi\n",
    "\n",
    "d_TFC = 3.5\n",
    "N_TF = get_N_TF(R0, eps, d_TFC)\n",
    "R2 = get_R2(N_TF, d_TFC)\n",
    "print(N_TF, R2)"
   ]
  },
  {
   "cell_type": "markdown",
   "metadata": {},
   "source": [
    "### D-shape\n",
    "\\begin{align}\n",
    "R &= R_0 + a \\, \\cos (\\theta - \\delta \\, \\sin (\\theta )) \\\\\n",
    "Z &= \\kappa a \\, \\sin (\\theta)\n",
    "\\end{align}\n"
   ]
  },
  {
   "cell_type": "code",
   "execution_count": 19,
   "metadata": {},
   "outputs": [],
   "source": [
    "from scipy.integrate import quad\n",
    "from scipy.special import iv\n",
    "from numpy import sin, cos, tan, exp, log"
   ]
  },
  {
   "cell_type": "code",
   "execution_count": 24,
   "metadata": {},
   "outputs": [
    {
     "name": "stdout",
     "output_type": "stream",
     "text": [
      "7.893088357257397\n"
     ]
    },
    {
     "data": {
      "text/plain": [
       "<matplotlib.legend.Legend at 0x7f3f1cb40b20>"
      ]
     },
     "execution_count": 24,
     "metadata": {},
     "output_type": "execute_result"
    },
    {
     "data": {
      "application/vnd.jupyter.widget-view+json": {
       "model_id": "6eeea85e31c549138d3d8c3ee594ee12",
       "version_major": 2,
       "version_minor": 0
      },
      "text/html": [
       "\n",
       "            <div style=\"display: inline-block;\">\n",
       "                <div class=\"jupyter-widgets widget-label\" style=\"text-align: center;\">\n",
       "                    Figure\n",
       "                </div>\n",
       "                <img src='data:image/png;base64,iVBORw0KGgoAAAANSUhEUgAAAoAAAAHgCAYAAAA10dzkAAAAOXRFWHRTb2Z0d2FyZQBNYXRwbG90bGliIHZlcnNpb24zLjQuMiwgaHR0cHM6Ly9tYXRwbG90bGliLm9yZy8rg+JYAAAACXBIWXMAAA9hAAAPYQGoP6dpAABdnUlEQVR4nO3dd3iUxcLG4d+m9wAJJJRQQpFeFEWKUlXsWLBhQRFFAUU8R8HuZ8F+VKzgsZyjKDbQI4oFARFUelN6DTWEkkrq7vfHkEAEEcIms/vuc1/XXrskm+wTkeVh5p0Zl8fj8SAiIiIiASPIdgARERERqVoqgCIiIiIBRgVQREREJMCoAIqIiIgEGBVAERERkQCjAigiIiISYFQARURERAKMCqCIiIhIgFEBFBEREQkwKoAiIiIiAUYFUERERCTAqACKiIiIBBgVQBEREZEAowIoIiIiEmBUAEVEREQCjAqgiIiISIBRARQREREJMCqAIiIiIgFGBVBEREQkwKgAioiIiAQYFUARERGRAKMCKCIiIhJgVABFREREAowKoIiIiEiAUQEUERERCTAqgCIiIiIBRgVQREREJMCoAIqIiIgEGBVAERERkQCjAigiIiISYFQARURERAKMCqCIiIhIgFEBFBEREQkwKoAiIiIiAUYFUERERCTAqACKiIiIBBgVQBEREZEAowIoIiIiEmBUAEVEREQCjAqgiIiISIBRARQREREJMCqAIiIiIgFGBVBEREQkwKgAioiIiAQYFUARERGRAKMCKCIiIhJgVABFREREAowKoIiIiEiAUQEUERERCTAqgCIiIiIBRgVQREREJMCoAIqIiIgEGBVAcZStW7dy7bXXkpCQQGRkJG3atGH+/Pm2Y4mIiPiUENsBRLxl7969dO3alZ49e/LNN99Qs2ZN1qxZQ/Xq1W1HExER8Skuj8fjsR1CxBtGjRrF7NmzmTVrlu0oIiIiPk1TwOIYX375JR07dqR///7UqlWLDh06MH78eNuxREREfI5GAMUxIiIiABg5ciT9+/dn3rx53HnnnbzxxhvccMMNR/yagoICCgoKyn7tdrvZs2cPCQkJuFyuKsktIr7N4/GQnZ1NnTp1CArSuIk4gwqgOEZYWBgdO3Zkzpw5ZR+74447mDdvHr/88ssRv+aRRx7h0UcfraqIIuLH0tLSqFevnu0YIl6hRSDiGLVr16Zly5blPtaiRQs+++yzv/ya0aNHM3LkyLJfZ2ZmUr9+fdLS0oiLi6u0rCLiP7KyskhJSSE2NtZ2FBGvUQEUx+jatSurVq0q97HVq1fToEGDv/ya8PBwwsPDD/t4XFycCqCIlKPLQsRJVADFMe666y66dOnCk08+yRVXXMHcuXMZN24c48aNsx0tMO3fD9u3m9uOHbBvH2Rnl78VFYHHc/AGEBwM0dEHbzEx5paYCMnJ5paUBAeu+RQRkeOnawDFUb766itGjx7NmjVraNSoESNHjmTw4MHH/PVZWVnEx8eTmZmpEcBjsXs3/P47rF4Na9YcvKWlQWZm5b52fDzUqQNNmkDjxua+9HHDhhCif9+Kd+h9QZxIBVDkEHqjP4o9e2DOHFi48OAtLe3oXxMRAbVrm1uNGhAba0bzYmPNrXT63eU6eCsuhtxcc8vJMbfsbNi1y4wk7twJhYV//7pt2kD79gdvbdua1xY5TnpfECfSP5FF5MgyMmD6dPjpJ5g5E5YtO/LzGjWCZs2gadOD9w0bmtIXF2dKnTd5PGY6eedOU0DXrYO1a81t3Tpz278f5s0zt1IuF7RqBWecYW7dukFKinezVYDH46GoqIji4mLbUQJaeHg4wcHBtmOIVBmNAIocIqD/pe/xwJIlMGWKuf3668Hr8ko1bw6nnQYdOsDJJ0O7dmYq1pe43bB+PSxeDIsWmfvFi2HbtsOf26CBKYN9+kDfvubawipUUFDAxo0bycnJqdLXlcO5XC6aNGlyxD/3Af2+II6lAihyiIB7o/d4TEn66COYOBE2by7/+TZtoEcP6N7dFKVatazE9IqdO2H2bJg1y9wWLTJl8VCnnALnnWdup55qFqRUErfbzZIlSwgJCaFu3bqEh4drlaklbreb7du3k52dTbt27Q4bCQy49wUJCCqAIocImDf6LVvg7bfhgw/MAo5SUVFmNOz8800JcvKmt9nZZpRz5kyYOhUWLCj/+YQEuOACuPJK898kNNSrL5+Xl8eKFSs46aSTiNG1idbl5OSwatUqWrRoQVRUVLnPBcz7ggQUXQMoEihKSkzRefNNM8VbOvoVEWGKztVXw7nnQmSk3ZxVJTYWzjrL3B5/3CwwmToVvvkGvv3WrHB+7z1zq1EDLr3UlMEePby6wlhHi/kG/T5IoFEBFHG6nBwz2vevf8HGjQc/3r07DBoE/fqZMhTokpNh4EBzKy4208WffGJu6enw1lvmVquWKYI332xWFouI+CH9k0fEqXbtggcegPr14c47TfmrUQNGjoSVK2HGDLjuOpW/IwkJMQX5lVdg61b44QcYPNj890tPh7FjzQKYTp1g/HgznSwANGzYkBdffNF2DBH5GyqAIk6zZw/cf7/ZnuWJJ2DvXrNB8uuvm2v/nn8eTjrJdkr/ERICvXvDuHFmmvjrr+Hyy801gXPnwi23mA2pBw8uv+2MiIgPUwEUcYq8PHMtW6NG8OSTZiPlU06Bzz83I35DhgTO9X2VJTTUXCf5ySemTD/7rNn7MCfHTA+fdhp07Wr+m5eU2E4rIvKXVABF/J3HY7Zxad4cHnwQsrLM9i2TJ5sRqUsuqdTtTAJWrVrwj3+Ycv3TT3DttRAWZk5LuewyM8r6yiumiDtIjx49GDZsGMOGDSM+Pp7ExEQefPBB/mpDiRdeeIE2bdoQHR1NSkoKt99+e7l9Dzdt2sSFF15I9erViY6OplWrVnz99dcAzJgxA5fLxbfffkuHDh2IjIykV69epKen880339CiRQvi4uK45ppryMvLK/ueU6dOpVu3blSrVo2EhAQuuOAC1q1bV7n/YUT8jAqgiD9btgzOPNOs4E1LM9f7TZhgNj6++GLvn8Ihh3O5zB6J//2vuc7y/vvNtYLr1sHw4ea0kfvuM9cOHoXH4yGvsNjK7Xh3A3vvvfcICQlh7ty5vPTSS7zwwgu89dZbR3xuUFAQL7/8Mr///jvvvfceP/74I/fcc0/Z54cOHUpBQQE//fQTy5Yt4+mnnz5sW5xHHnmEV155hTlz5pCWlsYVV1zBiy++yIQJE5gyZQrfffcdY8eOLXt+bm4uI0eOZP78+UybNo2goCAuueQS3H/e91EkgGkfQJFD+M1+X/n55vq+p54yK1ajomDUKDMipWle+3JzzfYx//qXOaIOzO/R8OHm9ygxsWwfwNJ95/IKi2n50LdW4v7xf+cQFXZsm0L06NGD9PR0fv/997KNq0eNGsWXX37JH3/8QcOGDRkxYgQjRow44td/+umnDBkyhIyMDADatm3LZZddxsMPP3zYc2fMmEHPnj354Ycf6N27NwBPPfUUo0ePZt26daSmpgIwZMgQNm7cyNSpU4/4mhkZGdSsWZNly5bRunXrIz7nz78fh/Kb9wWR46ARQBF/8+uv0L69ud6vuNhs47JqlZn+VfnzDdHRcPvtZnp40iTo2NFco/n00+Yazfvvh8xM2ykr7PTTTy93aknnzp1Zs2YNJUe47rG0vNWtW5fY2Fiuu+46du/eXTZle8cdd/D444/TtWtXHn74YZYuXXrY92h7yHY7SUlJREVFlZW/0o+lHzLCumbNGq6++mpSU1OJi4ujYcOGAGz+80k3IgFM+wCK+IviYjPq99hjZoFBcjK8+qrZoFh8U3CwKegXX2w2337oIXME3ZNPmk2nx40re2pkaDB//N85VmJGhlbONaIbN27kggsu4LbbbuOJJ56gRo0a/PzzzwwaNIjCwkKioqK4+eabOeecc8qmcseMGcPzzz/P8OHDy75P6CGnsLhcrnK/Lv3YodO7F154IQ0aNGD8+PHUqVMHt9tN69atKSwsrJSfU8QfqQCK+IPNm+Gqq+CXX8yvr7nGLDCoXt1uLjk2Lpc5beX88+GLL+CRRw5bHOJyuY55Gta23377rdyvf/31V5o2bXrYGboLFizA7Xbz/PPPl5208fHHHx/2/VJSUhgyZAhDhgxh9OjRjB8/vlwBPB67d+9m1apVjB8/njPOOAOAn3/+uULfS8TJ/OPdRiSQ/fijOXkiIwPi4uC112DAANuppCJcLjMieNFFZkTQT23evJmRI0dy6623snDhQsaOHcvzzz9/2POaNGlCUVERY8eO5cILL2T27Nm88cYb5Z4zYsQIzj33XJo1a8bevXuZPn06LVq0qHC26tWrk5CQwLhx46hduzabN29m1KhRFf5+Ik6lawBFfJXHAy+8YM6qzciADh3M6l6VP/8XFGQ2l/ZT119/Pfv37+e0005j6NCh3Hnnndxyyy2HPa9du3a88MILPP3007Ru3ZoPPviAMWPGlHtOSUkJQ4cOpUWLFvTt25dmzZrx2muvVThbUFAQH330EQsWLKB169bcddddPPvssxX+fiJOpVXAIofwmdV++fnmnN4JE8yvr78e3nhDizwc5GirTn1Zjx49aN++veOOe9MqYAk0mgIW8TWZmWbRwMyZ5hiyf/0Lhg7Vnn4iIuI1KoAivmTbNnPU2NKlEBtrTvPo1ct2KhERcRgVQBFfsXYt9OkDmzaZLV6++cbs9yfiQ2bMmGE7goh4gQqgiC9Yvx569oQtW6BJE/juO7NhsIiISCVQARSxbdOmg+WvRQuYPh2SkmynEhERB9M2MCI2bdliyt/mzdCsGUybpvInIiKVTgVQxJasLLPgY8MGaNzYbPhcu7btVCIiEgBUAEVsKCqC/v1h+XKz4GPaNKhb13YqEREJECqAIlXN44Hhw81Cj6go+OoraNDAdioREQkgKoAiVe211+DNN83Gzh9+CKecYjuRiF/r0aMHI0aMKPt1w4YNHXdSiYi3qQCKVKX58+Guu8zjZ5+Fiy6ym0fkOLhcrqPeHnnkETZu3HjEz1177bWVluvzzz/nscceq7TvL+JE2gZGpKrs3Wuu+ysqgksugZEjbScSOS7bt28vezxx4kQeeughVq1aVfaxmJgYMjIyAPjhhx9o1apV2eciK/Ec6xo1alTa9xZxKo0AilQFjwcGDYKNG80Gz2+/rbN9xe8kJyeX3eLj43G5XOU+FhMTU/bchISEw57/VwoKCrj33ntJSUkhPDycJk2a8O9//7vs8zNnzuS0004jPDyc2rVrM2rUKIqLi8s+/+cpYBH5exoBFKkKEybApEkQGgqffALVqtlOJL7G44G8PDuvHRVl9R8k119/Pb/88gsvv/wy7dq1Y8OGDWUjiVu3buW8885j4MCB/Oc//2HlypUMHjyYiIgIHnnkEWuZRfydCqBIZduxw6z6BXj4YS36kCPLy4NDRtCqVE4OREd79Vt26dKFoKCDk0yzZs2iQ4cOhz1v9erVfPzxx3z//ff06dMHgNTU1LLPv/baa6SkpPDKK6/gcrlo3rw527Zt49577+Whhx4q9xoicuxUAEUqk8cDt91mrv/r0AHuucd2IpEqMXHiRFq0aFH265SUlCM+b/HixQQHB9O9e/cjfn7FihV07twZ1yEjlF27diUnJ4ctW7ZQv3597wYXCRAqgCKV6auvYPJkCAmBd94xU8AiRxIVZUbibL22l6WkpNCkSZO/fV5lLg4Rkb+mAihSWQoKDq70vftuaNfObh7xbS6X16dh/UGbNm1wu93MnDmzbAr4UC1atOCzzz7D4/GUjQLOnj2b2NhY6tWrV9VxRRxDF0+IVJaxY2HtWnPU2/33204j4pMaNmzIDTfcwE033cTkyZPZsGEDM2bM4OOPPwbg9ttvJy0tjeHDh7Ny5Uq++OILHn74YUaOHKnr/0ROgP70iFSGjAwo3Zj2ySchNtZuHhEf9vrrr3P55Zdz++2307x5cwYPHkxubi4AdevW5euvv2bu3Lm0a9eOIUOGMGjQIB544AHLqUX8m8vj8XhshxDxFVlZWcTHx5OZmUlcXFzFv9F998GYMWbhx/z5oJEK+ZO8vDxWrFhBixYtiKqEa/Dk+Bzt98Nr7wsiPkR/K4l42+7dZvoX4JFHVP5ERMTn6G8mEW978UWzmrNdO7jwQttpREREDqMCKOJNubkHR/8eekjHvYmIiE9SARTxpg8+gMxMaNwY+vWznUZEROSIVABFvMXjgVdfNY9vv13X/omIiM/S31Ai3jJ7NixdCpGRcOONttOIn3C73bYjCKANMSTQqACKeMt//mPur7oKqle3m0V8XlhYGAA5to5/k3IKCgoACAnRAVkSGPR/uog3FBbCp5+ax9deazeL+IWQkBASExPZunUrADExMTrZwhK3283WrVuJiYkhVOd1S4BQARTxhu+/h717ISkJune3nUb8RP369QHKSqDYExQURLNmzcrOGxZxOhVAEW+YONHcX3EFBAfbzSJ+w+Vy0aBBA+rWrUthYaHtOH/tpZfgvffMwqZnnoFevWwn8iqXy0V4eLhGYCWgqACKnCi3G6ZONY8vvdRuFvFLISEhvn3t2ahRsG4d/PvfcNll8PXX0Lu37VQicgL0zx2RE7V4MezaBTEx0KWL7TQi3udywZtvmvJXWGj+obNsme1UInICVADFsZ566ilcLhcjRoyo3Bf69ltz37MnHFjZKeI4wcFmo/Pu3SErC847D7Zts51KRCpIBVAcad68ebz55pu0bdu28l9s+nRzf/bZlf9aIjaFh8OkSdC8OWzZAuefD9nZtlOJSAWoAIrj5OTkMGDAAMaPH0/1yt6Pz+2GefPM465dK/e1RHxB9ermGsBatczlD1dcAcXFtlOJyHFSARTHGTp0KOeffz59+vT52+cWFBSQlZVV7nZc1q6FffsgIgJat65YYBF/06gRfPWVOfVm6lS46y7biUTkOKkAiqN89NFHLFy4kDFjxhzT88eMGUN8fHzZLSUl5Zhfy+PxkDtrFrmAp3170AayEkhOPRUmTDCPX3kF3nrLbh4ROS4qgOIYaWlp3HnnnXzwwQdEREQc09eMHj2azMzMsltaWtoxv15eXh4xN99MDJBXFdcaiviafv3gscfM49tvh59/thpHRI6dCqA4xoIFC0hPT+fkk08u21dt5syZvPzyy4SEhFBSUnLY14SHhxMXF1fuViFNm55gehE/df/90L8/FBWZ7WE2b7adSESOgQ/vPCpyfHr37s2yP+1NduONN9K8eXPuvfdegivzhA4VQAlULhe88w6sWWMWhfTrB7Nnm+sDRcRnqQCKY8TGxtL6TwsxoqOjSUhIOOzjXuF2H3zcuLH3v7+Iv4iOhsmTzXWBixbBsGHm1BAR8VmaAhapqN27Dz6uV89eDhFf0KABfPihGRF8+20zKigiPksFUBxtxowZvPjii5XzzQ8tgFoBLGLOB/6//zOPb78dliyxm0dE/pIKoEhFZWTYTiDie+67D849F/Lz4fLLITPTdiIROQIVQJGKOnQEUESMoCD4738hJcVslD54MHg8tlOJyJ+oAIpUVE6O7QQivikhAT75BEJCzP2779pOJCJ/ogIoUlGFhbYTiPiuTp0ObhI9fLjZJkZEfIYKoEhFqQCKHN0//wk9ekBuLlxzjf7MiPgQFUCRitJfZiJHFxxsrgesXh3mz4eHH7adSEQOUAEUqagQ7aMu8rfq1YO33jKPn34aZs2ym0dEABVAkYq77TbbCUT8w6WXwqBBZjXwjTeaKWERsUoFUEREKt/zz5utYdatM3sFiohVKoAiIlL54uMPTgW//DLMnGk3j0iAUwEUEZGqcfbZcMst5vFNN2kqWMQiFUAREak6zz4L9evD+vVw//2204gELBVAERGpOnFxB6eCx44128OISJVTARQRkap11lkwYAC43XDrrVBcbDuRSMDRRmYiUimKStys2ZnD8q2Z/L4tk51ZBezNK2RfXhF5RcVEhgYTGRZCZGgQtWIjaJQYTWrNaBolRnNScizhIcG2fwSpTM8/D1OmwMKF8MorMGKE7UQiAUUFUES8JqegmGkrdjJl6XZmrt5FQbG7Qt8nPCSIDvWr0alRAp1Sa9CxQQ3CQjRh4ShJSfDMM2ZRyAMPwGWXmW1iRKRKuDwej8d2CBFfkZWVRXx8PJmZmcTFxR31ubm5ucTExACQk5NDdHR0VUT0SWl78nhtxjo+X7ilXOmLjQihdZ14WteNo36NKKpFhVEtKpSosGDyi9zkFZaQV1jM9sx8NuzKZUNGLmvSs9mbV1Tu+8dHhtK3VTIXtKtN59QEQoJVBh3B7YYzz4TZs6FfP5g0yXaiIzqe9wURf6ECKHIIFcDjs3Xffv71/WomLdpKidu8lTRKjOaCtrU5t3VtWtSOxeVyHdf39Hg8rNuVy28bdjN3wx5mr80gI+fgucs1osO4/JR6XHd6A1JqRHn15xELli+H9u2hpAS+/x769LGd6DAqgOJEKoAih1ABPDZut4cJczcz5usV5BaWAHBms5oM79WEjg2qH3fpO5oSt4ffNuxmytLtTF2+g925pgy6XNC7eRIDuzSka5MEr76mVLE77zSbQ7dsCYsXQ2io7UTlqACKE6kAihxCBfDv7cjM566Ji/ll/W4AOjaozgMXtKR9SrVKf+3iEjczV+/i3TkbmbUmo+zjrevGMfKsZvQ8qZaKoD/auxeaNoXdu+Gll+COO2wnKkcFUJxIBVDkECqAR7d8ayaD3pvHzqwCIkODuafvSdzQuSFBQVVfutbtyuE/czbyyYIt5B0YhWyfUo27z25GtyaJKoL+5s03YcgQqFYNVq+GmjVtJyqjAihOpAIocggVwL/2/R87uePDRewvKqFprRjGX9+Rhon2f+Y9uYW8+dM63puzkfwiswClS+MEHrmoFc2SYi2nk2NWUgIdO5op4FtvhTfesJ2ojAqgOJEKoMghVACP7Lvfd3DbBwspcXs4o2kirw44mbgI37pOa1d2Aa/PWMf7v22isNhNcJCLGzo3ZMRZTX0uq/yFn36C7t0hONgsDmne3HYiQAVQnEl7KYjIUf28JoNhExZR4vZwaYe6vD3wVJ8sVDVjw3nowpZMG9mdvq2SKXF7eHv2Bno9N4PPFmxB/9b1A2eeCRdfbEYD77vPdhoRR1MBFJG/tCRtH4P/M5/CEjfntk7mmcvbEurje/Cl1IjijetO4T83nUZqzWgycgq5+5MlDHpvPjuz8m3Hk7/z5JMQFGT2BJwzx3YaEcfy7XdyEbFmT24ht72/gP1FJZzRNJEXr2rvVxswn9msJlPvPJN7+p5EWHAQP65M5+x//cTkRVs1GujLWraEm24yj++9F/R7JVIp/OfdXESqTInbw50fLWJbZj6pidG8NuBkvzybNywkiNt7NGHKHd1oWy+ezP1FjJi4mCHvL2BvbuHffwOx45FHIDISfv4Z/vc/22lEHEkFUEQO8+r0tcxak0FEaBCvXXsysT54zd/xaJoUy2e3deHus5oRGuzi2993cv7Ls1i4ea/taHIkdevCiBHm8f33myPjRMSrVABFpJxVO7J5edoaAJ7o14bmyc5Y9RgaHMTw3k2ZPLQrjRKj2ZaZzxVv/MJbs9ZrStgX3XMPxMeb1cCff247jYjjqACKSJkSt4d7P1tKsdvD2S2TuOyUerYjeV2rOvF8Oawr57etTbHbw+NTVjDk/QVk7i+yHU0OVa3awVHARx/VKKCIl6kAikiZ//6ykcVp+4gJD+H/Lm5tO06liY0I5ZWrO/B/F7cqmxK+9LXZbNqdazuaHGrEiIOjgJ99ZjuNiKOoAIoIAHtzC3n+u9UA3Nv3JJLjIywnqlwul4vrOzfk0yFdSI6LYN2uXPq9Opu5G/bYjialqlWDu+4yjzUKKOJVKoAiAsDrM9eRXVBM8+RYBnRqYDtOlWmXUo0vhnWlbb149uYVMeCtX/l0wRbbsaTUnXeaUcDff9cooIgXqQCKCNsz9/PunI0A3Nu3OUFBLruBqlhSXAQTb+nMeW2SKSrx8I9PlvD8d6u0OMQXHHot4Jgx2hdQxEtUAEWEl35YQ2Gxm9Ma1aDHSTVtx7EiMiyYV64+mWE9mwAw9se1PPjFctxuFQ7rhg+HqChYtAimTbOdRsQRVABFAtzOrHw+W2imPO/texIuV2CN/h0qKMjFP845iScuaY3LBe//upm7Pl5MUYmuPbMqIQFuvtk8fuYZu1lEHEIFUCTAvTtnI0UlHk5tWJ1TGtSwHccnDOjUgJeu6kBIkIsvFm9jyH8XkF9UYjtWYLvrLggOhu+/h4ULbacR8XsqgCIBLLegmA9+3QTA4DNSLafxLRe1q8P46zsSHhLEtJXpDHxnLvsLVQKtadgQrrzSPH72WatRRJxABVAkgH26YAtZ+cU0SoymT4sk23F8Ts/mtfjvoE7Ehofw6/o9DP7PfI0E2nTPPeb+449h40arUUT8nQqgSIDyeDx8OHczADd2bRhwK3+P1WmNavDuTacSFRbMz2szuO39BRQW65pAK9q1gz59zH6Ar79uO42IX1MBFAlQy7ZmsnJHNuEhQVzcvq7tOD7tlAY1eHvgqUSEBjF91S6Gf7hQC0NsGT7c3L/1FuzfbzeLiB9TARQJUB/PTwOgb+tk4iNDLafxfaenJvDW9acSFhLEt7/vZOTHS7RFjA3nn2+uB9yzByZMsJ1GxG+pAIoEoPyiEr5YvA2AKzqmWE7jP7o1TeSNa08mNNjF/5Zs44mvV9iOFHiCg2HoUPP4lVe0MbRIBakAigSgH1emk51fTN1qkXROTbAdx6/0ap7Ec/3bAfDvnzfw9s8bLCcKQDfdBJGRsHgxzJ5tO42IX1IBFAlA3yzfAcD5bWtr8UcFXNy+Lvf2bQ7AY1P+4Jtl2y0nCjA1asCAAebxq6/azSLip1QARQJMflEJP67YCZjr/6RihnRP5brTG+DxwIiJi1mwaY/tSIFlyBBzP2mSuR5QRI6LCqBIgPl5TQa5hSUkx0XQvl4123H8lsvl4pGLWtGnRRIFxW5ufm8+aXvybMcKHCefbLaFKSiADz6wnUbE76gAigSYqb+b6d++rZM1/XuCgoNcjL26A23qxrM3r4gh7+vIuCrjch08H/itt7QYROQ4qQCKBBC328OMVbsAOLulTv7whsiwYN647hRqRIfx+7Ys7vt8GR6VkaoxYACEh8PSpbBgge00In5FBVAkgKzYkUVGTgFRYcF0bFjDdhzHqFstkleu6UBwkIvPF23lvTkbbUcKDNWrw6WXmsf//rfdLCJ+RgVQHGPMmDGceuqpxMbGUqtWLfr168eqVatsx/IpP63OAKBzagJhIfrj701dGidy33ktAHhsygp+W7/bcqIAMWiQuZ8wAfLz7WYR8SP6G0AcY+bMmQwdOpRff/2V77//nqKiIs4++2xyc3NtR/MZP602079nNE20nMSZburakIvb16HE7WH4h4vYk1toO5Lz9ewJ9epBVhZ8/bXtNCJ+QwVQHGPq1KkMHDiQVq1a0a5dO9599102b97MAl0bBMD+whLmH9iq5MxmNS2ncSaXy8VTl7alSa0Y0rMLuOfTpboesLIFBcHVV5vHOhpO5JipAIpjZWZmAlCjhq51A1iUtpeiEg/JcRE0Soy2HcexIsOCefmqDoQFB/HDip28/9tm25Gc75przP1XX8GBP/cicnQqgOJIbrebESNG0LVrV1q3bv2XzysoKCArK6vczanmb9wLwKmNauByafuXytSyThz39D0JgMe/+oM1O7MtJ3K4du2gRQuzJ+CkSbbTiPgFFUBxpKFDh7J8+XI++uijoz5vzJgxxMfHl91SUlKqKGHVm7fRTP+e2rC65SSB4aaujTizWU0Kit0M/3CR9gesTC7XwVFATQOLHBMVQHGcYcOG8dVXXzF9+nTq1at31OeOHj2azMzMsltaWloVpaxaxSVuFm46MAKo7V+qRFCQi+f6tyUhOoyVO7J5adoa25GcrbQATpsG6el2s4j4ARVAcQyPx8OwYcOYNGkSP/74I40aNfrbrwkPDycuLq7czYlW7sgmt7CE2IgQmiXF2o4TMGrFRvDEJW0AGPfTev7Y5txLDKxLTTXHw7nd8OWXttOI+DwVQHGMoUOH8v777zNhwgRiY2PZsWMHO3bsYP/+/bajWbdkyz4A2qdUI1jHv1Wpvq2TObd1MiVuD/d+tpTiErftSM5Vuim0rgMU+VsqgOIYr7/+OpmZmfTo0YPatWuX3SZOnGg7mnXLtpiVkW3qxltOEpgevagVcREhLNuayTuzN9qO41yXXGLuf/jB7AsoIn9JBVAcw+PxHPE2cOBA29GsW7ZVBdCmWnER3H++OSXk+e9XsXl3nuVEDtWiBTRrBoWF8M03ttOI+DQVQBGHKyguYfWBbUja1FMBtOWKjil0Tk0gv8jNA18s1wbRlcHlOjgKqGlgkaNSARRxuFU7sikq8VA9KpS61SJtxwlYLpeLJy9tQ1hwED+t3sX0VVqpWilKC+DXX5uRQBE5IhVAEYcrXXnaum68NoC2rFFiNDd2bQjA41NWUKQFId536qmQlATZ2TB7tu00Ij5LBVDE4VYdmP7V9i++YWivJiREh7F+Vy7v/7rJdhznCQqCc84xj6dOtZtFxIepAIo43JqdOQA0S4qxnEQA4iJCuftsc0zciz+sYW+upim9rm9fc68CKPKXVABFHK50AUhTjQD6jCtPTaF5ciyZ+4t48YfVtuM4z1lnmQUhS5fCtm2204j4JBVAEQfbl1dIenYBAE1raQTQVwQHuXjogpYAfPDbZrbs1bYwXpWYCKedZh5rFFDkiFQARRxs9YHp37rVIomNCLWcRg7VpUki3ZokUuz28Or0dbbjOI+mgUWOSgVQxME27s4FILVmtOUkciR39mkKwCfz0zQK6G1nnWXup08H7bkochgVQBEHKz1xIqVGlOUkciSnNqyhUcDKcuqpEBkJGRnwxx+204j4HBVAEQfbvMcUwAYqgD5Lo4CVJCwMunY1j2fOtJtFxAepAIo42KbSApigAuirDh0FfG2GRgG9qnt3cz9jhtUYIr5IBVDEwTYfuAawfg1dA+jLhvdqAsBnC7awR/sCek+PHuZ+xgxdByjyJyqAIg6VlV/E3rwiAOprBNCnndaoBq3rxlFQ7OajeZttx3GOU0+FiAjYtQtWrLCdRsSnqACKOFTpApCE6DBiwkMsp5Gjcblc3NilEQD//WWTzgj2lvBwOP1081jnAouUowIo4lBpB67/0+iff7igXW0SY8LYnpnPd7/vtB3HOUoL4G+/2c0h4mNUAEUcKu3AitL6WgHsF8JDgrnmtPoAvDN7g+U0DqICKHJEKoAiDrUzyxwBlxwfYTmJHKtrT29ASJCL+Zv2snxrpu04ztCpk7n//XfIyrKbRcSHqACKONTOrHwAasWqAPqLWnERnNM6GYBPF2yxnMYhkpOhfn2zCnj+fNtpRHyGCqCIQ6UfGAFMigu3nESOx2Un1wXgf0u2aTGIt2gaWOQwKoAiDpWebUYAk+I0AuhPzmhak4ToMHbnFjJrzS7bcZyhdBp43jy7OUR8iAqgiAN5PJ6yawCTNAXsV0KDg7iwXR0APl+41XIah2jf3twvWWI1hogvUQEUcaDsgmL2F5UAUEtTwH7n0gPTwN//sZOs/CLLaRygXTtzv369FoKIHKACKOJA6QcWgMRFhBARGmw5jRyvNnXjaVIrhoJiN1OX77Adx/8lJEBdU6pZtsxuFhEfoQIo4kAHF4Bo+tcfuVwuLmxrpoG//0ObQntF6SigpoFFABVAEUdKzzYFsGaspn/9Ve8WtQD4eU0G+Qem8+UEtG1r7pcutZtDxEeoAIo40L68QgCqR4dZTiIV1apOHElx4ewvKuHX9bttx/F/GgEUKUcFUMSB9u03CweqRYZaTiIV5XK56NU8CYDpK9Mtp3GAVq3M/cqVZlNokQCnAijiQPvyDhTAKBVAf9a7uZkGnrYyHY9Ky4lp0sTc79sHGRlWo4j4AhVAEQfKLBsB1BSwP+vaJJHwkCC27N3PmvQc23H8W2SkORIOYPVqu1lEfIAKoIgDlV4DGK8RQL8WGRbMaY1qAPDLOl0HeMJOOsncr1plN4eID1ABFHEgXQPoHKc2NAVw/qa9lpM4QLNm5l4jgCIqgCJOlFl2DaCmgP1dxwbVAViwcY/lJA6gEUCRMiqAIg5UNgKoKWC/175+NYKDXGzLzGfrvv224/i30oUg69fbzSHiA1QARRzG4/GULQKJ1xSw34sKC6Fl7TgA5msU8MSULgLZvNluDhEfoAIo4jAFxW5K3GbLkOjwEMtpxBtOKZ0G1nWAJ6a0AO7bB1lZVqOI2KYCKOIweYUHjw2LDA22mES85eQDBXDJlkzLSfxcbCxUN/8tNQoogU7DA3LCvvzyy+P+mrPOOovIyMhKSCN5hcUAhIcEERzkspxGvKF5ciwA69Jz8Hg8uFz6fa2wBg1g715TAFu3tp1GxBoVQDlh/fr1O67nu1wu1qxZQ2pqauUECnD7D4wARoVp9M8pGiZEExzkIqegmB1Z+dSO1z+eKqx+fVi8GDZtsp1ExCpNAYtX7NixA7fbfUy3qKgo23EdLa+sAOrfd04RFhJEwwTz52bNTp0IckJSUsz9li12c4hYpgIoJ+yGG244runca6+9lri4uEpMFNhKC2BEqP54O0nTWmYaWEfCnaCkJHOfnm43h4hl+htCTtg777xDbGzsMT//9ddfJzExsRITBbb9ReYaQI0AOkvTpBgA1qZnW07i52rVMvcqgBLgVABFHGZ/oRsw58iKczSpVVoANQJ4QlQARQAtApFKkJ+fz9KlS0lPT8ftdpf73EUXXWQpVeAoXQWsRSDOUreaucxiR1a+5SR+TgVQBFABFC+bOnUq119/PRkZGYd9zuVyUVJScoSvEm/KLzalOyJEBdBJasVGAJCeVaCtYE6ErgEUATQFLF42fPhw+vfvz/bt2w9b/avyVzVKSkwBDAlWQXCSWnHhgDnpJWt/seU0fqxmTXOfkwP5Gk2VwKUCKF61c+dORo4cSVLpv7KlyhUfOAYuRJtAO0pEaDBxEWbSJj1bxaXCDl2wpuPgJICpAIpXXX755cyYMcN2jIBWWgCDg/TH22lqxR2YBs4usJzEjwUFHSyBKoASwHQNoHjVK6+8Qv/+/Zk1axZt2rQhNDS03OfvuOMOS8kCR8mBAhiqKWDHSYoLZ216Dju1EOTExMVBdrYKoAQ0FUDxqg8//JDvvvuOiIgIZsyYUe5CdZfLpQJYBYoOXAOoc4Cdp1pkGADZ+boG8ITExcHWrZCZaTuJiDUqgOJV999/P48++iijRo0iSFOQVpToGkDHCg8xf6byi7Sg6oSUnkSkEUAJYPobWryqsLCQK6+80mr5e/XVV2nYsCERERF06tSJuXPnWstiQ1GJrgF0qvBQs7VPQbH7b54pRxVjNtUmR5tqS+DS3xDiVTfccAMTJ0609voTJ05k5MiRPPzwwyxcuJB27dpxzjnnkB5Ae36VHNh8W9cAOk/pCGBBsUYAT0i42VKHwkK7OUQs0hSweFVJSQnPPPMM3377LW3btj1sEcgLL7xQqa//wgsvMHjwYG688UYA3njjDaZMmcLbb7/NqFGjKvW1fUXpKuAgTQE7Tnho6RSwRgBPSJi5llIFUAKZCqB41bJly+jQoQMAy5cvL/e5yj65oLCwkAULFjB69OiyjwUFBdGnTx9++eWXI35NQUEBBQUHt9TIctA1Qap/zjN7rTlh5905G3nwgpaW0/ixtDRzv2iR3RwiFqkAildNnz7d2mtnZGRQUlJy2CbUSUlJrFy58ohfM2bMGB599NGqiFdlgg4U7QMDgeIgm3bnAQcX+kgF7dlj7rdutZtDxCJdAygnbOnSpbjdxz4l9fvvv1Nc7BvbWIwePZrMzMyyW1rpyIAfK5359XhUEpymU6MaANSvEWU5iZ+rW9fct2hhN4eIRSqAcsI6dOjA7t27j/n5nTt3ZvPmzV7PkZiYSHBwMDt37iz38Z07d5KcnHzErwkPDycuLq7czd+VXvvnVgF0nJZ14gHocVJNy0n8XEKCuW/SxG4OEYs0BSwnzOPx8OCDDxIVdWyjEoWVdOF1WFgYp5xyCtOmTaNfv34AuN1upk2bxrBhwyrlNX2RpoCdS5t8e0npdb+lq4FFApAKoJywM888k1WrVh3z8zt37kxkZGSlZBk5ciQ33HADHTt25LTTTuPFF18kNze3bFVwICjtBhoBdJ7s/CIAYiNC/+aZclSlBbB0NbBIAFIBlBM2Y8YM2xHKXHnllezatYuHHnqIHTt20L59e6ZOnXrYwhAnKxsB1BCg42TuN9fOxkXorfuElG4AHRtrN4eIRXoXEccZNmxYQE35/plLU8COlbXfjADGR2oE8ISUngHsgGt+RSpKi0BEHEZTwM6VqQLoHaX7faoASgBTARRxmJADDVB7xTmPRgC9pLQAxsfbzSFikQqgiMOEhwQDUFCs48KcpnQEME4FsOKKiyHPbKitEUAJZCqA4hVXX331YUe/iR2l58UWFJdYTiLeVFBcwp48s4VSzVhtX1Jhpdf/gRaBSEBTARSvmDhxIr179/7LEujxeMgpXXknlSriwAhgfpFGAJ1k6979eDwQFRZMQrS2L6mw9HRzX62atoGRgKYCKF7Tvn17evXqdcQSmJ6eTrVq1ao+VAAqHQHML9IIoJNs3mOmLevXiCpb6S0VUFoAa9Wym0PEMhVA8QqXy8W7775Lr1696NWrF8uWLTvsOcdzXrBUnK4BdKa0AwUwRecAn5jSAhhAe4OKHIkKoHiFx+MhODiYCRMm0Lt37yOWQI1aVI0IjQA6Utre/QCkVFcBPCEaARQBVADFy4KCgvjggw/o06cPvXr1YunSpbYjBZzwsmsAVQCdZPPu0ingyjlGMWDs3GnuVQAlwKkAilccOrpXWgLPOussevfurRJYxSLKVgFrCthJ1u0yi6gaJEZbTuLnduww9yqAEuBUAMUrPH86dSIoKIj333+/rAQuXrzYTrAAFK5VwI6TV1hcVgBb1dHedSckLc3cp6TYzSFimQqgeMWUKVOI/9Ou+qUl8Oyzz+ayyy6zlCzwxISbI75zC4otJxFvWbE9C7cHasWGUys2wnYc/7Zpk7lv0MBuDhHLVADFK84991zCww/fnDYoKIj//ve/XHzxxRZSBaa4SFMA9xeVUFSiUUAnWL7VHF3Wuq6OLjshHg9s3mwe169vN4uIZSqAUulKRwJ/+eUX21ECQukIIEB2vkYBnWDZVnN6hQrgCdq7F3JzzWNNAUuAUwGUKuFyuTjttNNsxwgIIcFBRIeZ6wCzDpwdK/5teWkB1PV/J6Z0+rdWLYjUamoJbCqAIg4UGxEKaATQCXILilmTbhaAtKmnEcATUloANf0rogIo4kSl1wFm5WsE0N/N3bCHEreHlBqR1I7XqNUJWbPG3DdpYjeHiA9QARRxoIMjgCqA/m722gwAujZOtJzEAVavNvfNmtnNIeIDVABFHCgu4sAI4H5NAfu7n0sLYBMVwBO2apW5P+kkuzlEfIAKoIgDlY4AagrYv2XkFLByRzYAXRonWE7jABoBFCmjAijiQNWiTAHcl6cC6M/mrNsNQIvacSTEHL7PphyHzMyD5wCrAIqoAIo4UUK0KQsZOQWWk8iJmLV6FwBdNfp34kpH/5KTIU7b6YioAIo4UGJsGKAC6M+KStx8v8KMWPVsXstyGgdYvtzct2hhN4eIj1ABFHGgxAPThbtyCi0nkYr6df1u9uUVUSM6jE6NatiO4/+WLDH37drZzSHiI1QARRyotABmZGsE0F99vWwHAOe0SiYkWG/VJ0wFUKQcvauIOFCt2IPXAHo8Hstp5HgVl7j59ndTAM9rk2w5jQN4PCqAIn+iAijiQKUjgAXFbnIKtBegv5m7YQ97cgupHhXK6alaAHLCtm6FvXshOBhatrSdRsQnqACKOFBkWDDRYcEAZOg6QL/zv6XbATi7ZTKhmv49caWjf82bQ7i20xEBFUARx0qM1VYw/iivsJj/LdkGwEXt61hO4xALF5r79u2txhDxJSqAIg5V88A0cHqWCqA/+WrJdnIKimmQEEVnTf96x2+/mfvTTrObQ8SHqACKOFTd6pEAbN2XZzmJHI8JczcDcNWp9QkKcllO4wAeD/z6q3ncqZPdLCI+RAVQxKHqVjMFcMve/ZaTyLFasT2LxWn7CAlycfkp9WzHcYb162H3bggL0xSwyCFUAEUcql71KAC2qgD6jY8OjP6d3SqJmrFarOAVpdO/HTpoAYjIIVQARRyqdApYI4D+IaegmM8XbQXM9K94iaZ/RY5IBVDEoeqVXQO4X5tB+4GP5m4mO7+Y1MRoujVJtB3HOVQARY5IBVDEoUqvAcwpKCZzf5HlNHI0hcVu3pq1AYBbzkzV4g9vyco6uAVMt252s4j4GBVAEYeKCA0uOxFE08C+7YvFW9mRlU+t2HAuObmu7TjOMXs2lJRAairU17S6yKFUAEUcTNcB+j6328ObP60H4KZujQgPCbacyEFmzjT3PXpYjSHii1QARRysfg2zEnjT7lzLSeSvTFuZztr0HGLDQ7imk0apvGrGDHPfvbvVGCK+SAVQxMFSE6MBWL9LBdAXeTwexv64BoABpzcgLiLUciIHyc6G+fPNYxVAkcOoAIo4WONaMQCs25VjOYkcydfLdrB0SybRYcHcfEYj23GcpfT6v0aNoEED22lEfI4KoIiDNa5pRgBVAH1PUYmb575bBcDNZ6SWLdgRL/n2W3Pfq5fdHCI+SgVQxMEaHZgC3ptXxJ7cQstp5FAfz09jQ0YuNaLDGHxmqu04zjN1qrk/91y7OUR8lAqgiINFhYWU7QeoUUDfsb+whJd+MNf+DevZhJjwEMuJHGbjRli5EoKDoXdv22lEfJIKoIjDNU0y1wGu3J5lOYmUenv2BtKzC6hXPZIBp2vlr9eVjv517gzVqlmNIuKrVABFHK5l7TgA/tiebTmJAGzP3M+r09cCcPfZzbTvX2UoLYB9+9rNIeLDVABFHK7FgQK4QiOAPuGxr/4gr7CEjg2qc3E7nfrhdYWFMG2aeazr/0T+kgqgiMOVFsBVO7IpcXsspwlsP63exdfLdhDkgv+7uLXO/K0M06dDTg4kJ0P79rbTiPgsFUARh2uUGE1EaBD7i0p0IohFBcUlPPzl7wDc0KUhLevEWU7kUJMmmfuLL4Yg/RUn8lf0p0PE4YKDXDRPNmVj2dZMy2kC17iZ69mQkUvN2HDuOquZ7TjOVFICkyebx5dcYjWKiK9TARQJAO1TqgGwaPM+qzkC1dr0bMYeWPjxwPktdORbZfn1V9i5E+LjoWdP22lEfJoKoDjCxo0bGTRoEI0aNSIyMpLGjRvz8MMPU1iozY8BOtSvBsDitH1WcwSi4hI3Iz9eQmGxm+7NanJRuzq2IzlX6fTv+edDWJjdLCI+TruPiiOsXLkSt9vNm2++SZMmTVi+fDmDBw8mNzeX5557znY86zqkVAfgj21ZFBSXaOuRKvT6jHUs3ZJJXEQIT1/WFpdLCz8qhcdzsABeeqndLCJ+QAVQHKFv3770PWTPr9TUVFatWsXrr7+uAgik1IikRnQYe3IL+WNbFh3qV7cdKSD8vi2Tl380J348enErkuMjLCdysAULYP16iIyEc86xnUbE52kKWBwrMzOTGjVqHPU5BQUFZGVllbs5kcvlosOB6wAXbNprN0yAKCgu4e6Pl1BU4uGcVkn0a689/yrVhAnm/qKLICbGbhYRP6ACKI60du1axo4dy6233nrU540ZM4b4+PiyW0pKShUlrHqnpyYA8Mu63ZaTBIZnp65i5Y5sakSH8cQlbTT1W5lKSuCjj8zja66xm0XET6gAik8bNWoULpfrqLeVK1eW+5qtW7fSt29f+vfvz+DBg4/6/UePHk1mZmbZLS0trTJ/HKs6NzYF8LcNeygucVtO42zf/b6Dt37eAMBTl7YhMSbcciKHmzkTtm+H6tV1/JvIMdI1gOLT7r77bgYOHHjU56SmppY93rZtGz179qRLly6MGzfub79/eHg44eGB8Zdzi9pxxEWEkJVfzPJtWWVbw4h3pe3J4x+fLAFgULdGnN0q2XKiAFA6/Xv55Vr9K3KMVADFp9WsWZOaNWse03O3bt1Kz549OeWUU3jnnXcI0ikA5QQHuTg9NYHv/tjJnHUZKoCVoKC4hKETFpKVX0z7lGrc27e57UjOV1AAn35qHmv6V+SY6W9IcYStW7fSo0cP6tevz3PPPceuXbvYsWMHO3bssB3Np3Q5MA08a3WG5STONObrlSzdkkl8ZCivXNOBsBC9xVa6yZMhMxPq1oUzzrCdRsRvaARQHOH7779n7dq1rF27lnr16pX7nMfjsZTK9/RsXotH/vcH8zbuISu/SCdSeNGnC7bw7pyNALxwRTvqVY+yGyhQ/Pvf5v7GGyFY+1uKHCv981QcYeDAgXg8niPe5KAGCdE0rhlNsdvDzFW7bMdxjHkb9zD686UADOvZhN4tkiwnChCbNsEPP5jHN95oN4uIn1EBFAkwfQ6Ukx9XpltO4gxpe/K49b8LKCrxcG7rZEae1cx2pMDxzjvmBJBeveCQxWAi8vdUAEUCTK/mtQCYvipd28GcoOz8Im5+bz57cgtpXTeO569oR1CQ9vurEiUlpgACDBpkN4uIH1IBFAkwpzSoTvWoUPblFTFHm0JXWHGJmzs/WsyqndnUig1n/PUdiQrTZdVVZto02LzZ7P2ns39FjpsKoEiACQkO4vy2tQH4YvE2y2n8k9vt4d7PlvHjynTCQ4IYf31HasdH2o4VWF591dxfey1E6IxlkeOlAigSgC4+cC7tt7/vIL+oxHIa/+LxeHji6xV8tnALwUEuXr3mZNppT8WqtXEj/O9/5vHtt1uNIuKvVABFAtAp9atTt1okOQXFWgxynF6bsY5/Hzjm7ZnL2tKnpVb8VrnXXjOLP846C5prs22RilABFAlAQUEuLmxXBzD718mxmfDbZp79dhUAD17QkstOqfc3XyFel5cHb71lHg8fbjeLiB9TARQJUFd0NOVl+qp00vbkWU7j+ybO28z9k5cBZq+/Qd0aWU4UoD78EPbuhUaN4LzzbKcR8VsqgCIBKrVmDGc0TcTjgQlzN9uO49Pe/3UT9362DI8HbujcgLvP1l5/Vng88PLL5vHQoTr5Q+QEqACKBLBrT28AwMR5aRQUazHIkbw3ZyMPTF4OwKBujXjkola4XNrrz4rvv4elSyE6Gm66yXYaEb+mAigSwHo3r0Xt+Aj25BZqS5gjeGvWeh7+8ncAbj0zlQfOb6HyZ9Mzz5j7wYPN/n8iUmEqgCIBLCQ4iIFdGgLw+ox1lLh1djKYrV6e/XYlj09ZAcDQno0ZdW5zlT+bFiwwmz+HhMBdd9lOI+L3VABFAty1pzegelQoGzJy+WqpRgGLStzc/ckSXp2+DoCRZzXjH2efpPJnW+no39VXQ/36drOIOIAKoEiAiw4P4eYzUgEY++Na3AE8CphTUMxN787j84VbCQ5y8fRlbbijd1OVP9vWrYNPPzWP//lPu1lEHEIFUES4vnMD4iJCWJuew6cLA3NfwB2Z+Vz55i/MWpNBZGgwb13fkStP1UiTT3jmGXC74dxzoU0b22lEHEEFUESIjQhlWK8mADwzdRXZ+UWWE1WteRv3cMHYn/l9WxaJMWFMvPV0ejavZTuWAGzaBG+/bR7fd5/dLCIOogIoIgAM7NKI1MRoMnIKGPvjWttxqoTH4+G/v27i6nG/kpFTQPPkWD6/rStt61WzHU1KPfkkFBdDnz7QrZvtNCKOoQIoIgCEhQTx4AUtAXhn9gZW78y2nKhyFRSXMOqzZTw4eTnFbg/nt63N57d3oX5ClO1oUurQ0b+HH7abRcRhVABFpEzP5rXo0yKJohIPIz5aTGGx23akSrE2PYdLXp3DxPlpBLlg1LnNeeXqDkSFhdiOJofS6J9IpVEBFJFynry0NTWiw/hjexYvfL/adhyv8ng8fPDbJi4YO4s/tmdRPSqUd248jSHdG2ulr6/ZuFGjfyKVSAVQRMqpFRvBmEvNSss3f1rH7LUZlhN5x97cQm797wLun7Sc/CI33ZokMnXEmXRvVtN2NDmShx7S6J9IJVIBFJHDnNMqmSs7puDxwG3vL2DdrhzbkSrM4/HwvyXbOOtfP/HdHzsJDXZx/3kt+M9Np5EUF2E7nhzJkiXw/vvm8ZgxdrOIOJQKoIgc0aMXt+Lk+tXIyjebI+/JLbQd6bht2ZvHoPfmM/zDRWTkFNCkVgyTbu/K4DNTCQrSlK/PGjUKPB648kro2NF2GhFHUgEUkSOKCA1m/PUdSakRyabdedz47jwy8/xjf8DCYjdvzVrP2f/6iR9XphMWHMSIPk2Zckc3WteNtx1PjubHH2HqVHPm7xNP2E4j4lgqgCLylxJiwnn7hlOpFhXKkrR9XDXe7JfnqzweD98s287Z/5rJ41NWkFdYwqkNq/P1nd0Y0acZ4SHBtiPK0bjdcO+95vGQIdC4sd08Ig6mAigiR9U0KZaJt3QmMSacFduzuOLNX9iYkWs71mEWbNrL5W/8wm0fLGTj7jwSY8IYc2kbJt7SmSa1Ym3Hk2Px4Ycwfz7ExMCDD9pOI+Jo2vRKRP7WScmxfDKkMwPG/8r6XblcMPZnnrqsDRe0rWM1l8fjYc663bw+Yx0/H1itHBEaxC1npHJL98bEhOstzm/k5MA995jHo0dDLR3FJ1KZ9O4oIsekUWI0n9/elTs+XMTcjXsYNmERs9dmcG/f5lSLCqvSLMUlbr7/Yyevz1zH0i2ZAAQHubjs5LqMPOskkuO1utfvjBkD27ZBaiqMHGk7jYjjuTwej8d2CBFfkZWVRXx8PJmZmcTFxR31ubm5ucTExACQk5NDdHR0VUS0rrjEzb9+WM2r09cBUC0qlLv6NOOaTvUJDa7cq0rW7crhk/lb+HzhFtKzzbWI4SFBXHVqCjefkUpKDR3j5pfWr4eWLaGgACZNgn79bCcq53jeF0T8hQqgyCFUAI/dnHUZPPrlH6w6cGZwveqRXNOpPld0TCExJtwrr+HxeFi3K5cZq9L5ZvkOFmzaW/a5GtFhDOhUnxu6NPTa64kll1wCkyebTZ+/+w587FQWFUBxIhVAkUOoAB6f4hI3E+en8cJ3q9l9YJ/A0GAXPU6qxRlNE+naJJHUxOhjPmbN7fawPiOX5VszWbR5L9NX7WLznryyzwe5oMdJtbiiYz16NU8iLETr2Pzed9/BOedAcDAsXWpGAn2MCqA4kQqgyCFUACsmv6iE/y3Zxvu/bWZJ2r5yn0uIDqNhYjT1a0RRr3okEaHBhAS5CA5ykV9UQnp2AelZBezMzmf1jmxyC0vKfX1osItOjRLo2bwWF7StrdM7nGT/fmjd2kwB33knvPii7URHpAIoTqRFICJywiJCg+nfMYX+HVP4Y1sW01el8/OaDBZs2svu3EJ25xaWm749+vcKomXtONrUjadz40S6NU3Ual6nevxxU/7q1oXHHrOdRiSg6F1VRLyqZZ04WtaJY2jPJuwvLGFNejab9+SxeU8e2/btp6jYQ7HbQ4nbTVhIELViI6gZG07N2HAa14yhcc1oQip5MYn4gN9/h2eeMY9feQVitVejSFVSARSRShMZFkzbetVoW6+a7SjiS9xuuPVWKC6Giy/2uVW/IoFA/8wWEZGqNX48zJ4N0dEwdqztNCIBSQVQRESqzqZN8I9/mMePPw4pKXbziAQoFUAREakaHg8MGmSOfevaFYYPt51IJGCpAIqISNV4802YNg0iI+Gdd8zefyJihQqgiIhUvo0b4Z//NI/HjIGmTa3GEQl0KoAiFZWZaTuBiH8oKYGbbjJTv2ecoalfER+gAihSUW+/bTuBiH947jmYPh2iosyfmyD91SNim/4UilRUaKjtBCK+b/58eOAB8/jll6FJE7t5RARQARSpuLAw2wlEfFtODlxzjdnw+fLLzTSwiPgEFUCRilIBFDm6O++ENWugXj0YNw5cLtuJROQAFUCRilIBFPlrH31krvdzueD996F6dduJROQQKoAiFRUfbzuBiG9asQJuvtk8vu8+6N7dbh4ROYwKoEhFJSbaTiDie3JzzfV+ubnQsyc88ojtRCJyBCqAIhWVkGA7gYhv8Xjg1lvhjz+gdm2YMAFCQmynEpEjUAEUqahDC+D+/fZyiPiKcePggw/MEW8ffQTJybYTichfUAEUxykoKKB9+/a4XC4WL15ceS9UrdrBxxs3Vt7riPiDOXMOnvDx5JNw5pl284jIUakAiuPcc8891KlTp/Jf6NAtLdatq/zXE/FVaWlw6aVQVGTu//EP24lE5G+oAIqjfPPNN3z33Xc899xzVfvCKoASqPbvh0sugZ07oW1beO89HfUm4gd0da44xs6dOxk8eDCTJ08mKiqqal981aqqfT0RX+DxmO1eFiwwq+K/+AJiYmynEpFjoH+miSN4PB4GDhzIkCFD6Nix4zF/XUFBAVlZWeVuxyoqKoqcCRPIAaIq81pDEV/11FMHV/p++ik0bGg7kYgcIxVA8WmjRo3C5XId9bZy5UrGjh1LdnY2o0ePPq7vP2bMGOLj48tuKSkpx/y1LpeL6DPPJBpw/f672fdMJFB8+KHZ5Bng5Ze12bOIn3F5PB6P7RAif2XXrl3s3r37qM9JTU3liiuu4H//+x+uQxZmlJSUEBwczIABA3jvvfeO+LUFBQUUFBSU/TorK4uUlBQyMzOJi4s7tpB16sD27TBrFnTrdmxfI+LPfvoJzjoLCgth5Eh4/nnbiSpVVlYW8fHxx/e+IOLjVADFETZv3lxu+nbbtm2cc845fPrpp3Tq1Il69eod0/ep0Bv9pZfCpEnwxBMHR0REnGrlSujSBfbuhcsug48/dvyiDxVAcSItAhFHqF+/frlfxxy4EL1x48bHXP4qrE8fUwC/+04FUJxt50447zxT/k4/Hf77X8eXPxGn0p9ckRN19tnmfvZsyM62m0WksuzbB+ecAxs2QGoqfPklREbaTiUiFaQCKI7UsGFDPB4P7du3r/wXa9LE/IVYXAw//lj5rydS1fLy4MILYckSSEqCb7+FmjVtpxKRE6ACKOINF1xg7j/91G4OEW8rKoL+/eHnnyE+3pS/Jk1spxKRE6QCKOINV15p7idPNqMlIk5QUgIDB8LXX5vp3ilToF0726lExAtUAEW8oXNnaNAAcnLMX5Yi/s7tNqd8lG70/Nln0LWr7VQi4iUqgCLe4HLBVVeZx3+x56CI33C74ZZb4N13ITjYlMBzz7WdSkS8SAVQxFtuvNHcT5kCGzdajSJSYW433HYb/PvfZouX99831wCKiKOoAIp4y0knQe/e4PHAG2/YTiNy/NxuGDYMxo0z5e8//zk4si0ijqICKOJNQ4ea+7fegvx8u1lEjkdJCQwaBK+/bi5peOcdGDDAdioRqSQqgCLedOGFUL8+7N5tptBE/EFhIVxzjbnmLyjI3F9/ve1UIlKJVABFvCkkBO691zx+6ikoKLCbR+Tv7N9vzrP++GMIDTX3Kn8ijqcCKOJtgwZB3bqwZYsZSRHxVVlZcP75ZuFSRIQ53u2yy2ynEpEqoAIo4m3h4QdHAR9/XBtDi2/avh3OPBOmT4eYGJg6Ffr2tZ1KRKqICqBIZbj5ZnMt4JYt8OyzttOIlLdypdm8fMkSqFULZsyA7t1tpxKRKqQCKFIZIiMPFr+nn4a0NLt5RErNmWNO9Ni0yZzp+8svcMoptlOJSBVTARSpLP37wxlnmIvs77nHdhoRmDjR7FW5Zw+cdpopg6mptlOJiAUqgCKVxeWCF18022p89JG50F7EBo8HHnnEbOqcnw8XXAA//gg1a9pOJiKWqACKVKaTT4a77jKPb7kF9u2zGkcC0P79cPXV8Oij5td33w2TJ0N0tNVYImKXCqBIZXvsMWjaFLZtM3/5ilSVLVugRw8z9RsSYk6oee45CA62nUxELFMBFKlskZHw9ttmSvjtt+Gzz2wnkkAwY4YZgZ47F2rUgO+/N3tUioigAihSNbp1g3/+0zy+6SZYt85uHnEujweefx769IFdu6BdO1MCe/SwnUxEfIgKoEhVefxxs/1GVpZZIZyfbzuROE12tlno8Y9/QEkJXHutWenbuLHtZCLiY1QARapKaKhZDZyYCIsWwdChZrRGxBsWLDBTvh9/bK73GzsW/vMfiIqynUxEfJAKoEhVqlcPPvjAbA3z9ttmk2iRE+HxwEsvmZM91q6FlBSYOROGDTPXnYqIHIEKoEhVO/ts8xc2wOjRZsRGpCIyMuDii2HECCgqgn79YPFi6NLFcjAR8XUqgCI2DBsGd95pHl9/PcyaZTeP+J+vvoLWreF//4OwMHjlFfj8c7PiV0Tkb6gAitjy/PNw0UVQUADnnWfOZBX5O9nZMHgwXHgh7NwJLVvCb7+Za0o15Ssix0gFUMSW4GD48EPo2RNycqBvX5g/33Yq8WUzZ5ptXd56y5S9u+82iz/at7edTET8jAqgiE1RUWYK74wzzPYwZ59t/kIXOdS+feYowR49YMMGaNAApk83p3pERNhOJyJ+SAVQxLboaJgyxazi3LvXjAhOm2Y7lfiKSZPMNO/48ebXt9wCS5dC9+52c4mIX1MBFPEFsbEwdaoZ4cnOhnPPNee3SuDavBkuvdTctm+HZs3MFPCbb0JcnO10IuLnVABFfEVcnCmB/fubLT2uvhpefFGbRQeaggJ48klo3tyM/gUHm+2CliyBM8+0nU5EHEIFUMSXhIebhSGlp4TcdRfceCPs3287mVSFqVOhTRu4/37ze37mmebUmCef1LV+IuJVKoAiviY42Bzj9fzz5sSQ994zi0Q2bbKdTCrLsmVmFfi558KaNVC7tjkxZsYMUwhFRLxMBVDEF7lcMHIkfPcdJCSYlcEdO5pfi3Ns32729GvfHr791pwXfffdsHIlXHON9vUTkUqjAijiy3r3NuWvQwdz7Nc555hp4fx828nkRGRkwKhR0KSJ2dPP7TbXfq5cabZ20SIPEalkKoAivq5BA5g9G26/3fz6xRfhtNPMogDxL3v2wAMPQKNG8PTTkJcHp59ufn8//hhSU20nFJEAoQIo4g8iI+HVV82m0TVrmmvGTjkF7rtPC0T8wb598Mgjpvg98YQ5+aVDB/P7OWcOdOliO6GIBBgVQBF/csEFpvxddhmUlMCYMeZosB9+sJ1MjmTHjoMjfo8+ak57advWbO+yYIH5/dR1fiJigQqgiL9JSoJPPzUlok4ds2r0rLPg4oth7Vrb6QRMSb/xRjN9/8QTZgSwVSv45BOzrUu/fip+ImKVCqCIv+rXD/74A+64w2wd8+WX5siwu++GXbtspws8Ho9ZpX3OOWaU7913obDQTO9+9pm5ZvPyy83WPiIilumdSMSfxcfDSy8d3EeuqAheeMEsJnjgAXO2sFSujAzz37xVK1P+vvvOlLzLL4dffjELPC691JR0EREf4fJ4dM6USKmsrCzi4+PJzMwkzh+34pg61ZwisXCh+XV8vFk9PHy42VxYvMPthh9/hPHjzVR8UZH5eHQ0DBoEI0aY6/7EEfz+fUHkCFQARQ7hiDd6jwe++AIefBCWLzcfCwuDa68108MtW9rN58/WrIGPPjLTu+vXH/z4KaeYDZ2vvlp7+DmQI94XRP5EBVDkEI56o3e7zXWBzz5rthopdeaZcOutZlpS58v+vY0bYeJEc1u06ODH4+JMqb75ZrOliziWo94XRA5QARQ5hGPf6OfMMSdMfPGFKYZgjpgbMMCMWnXqpFWppTweWL0avvrKrNr97beDnwsONqezXHONObkjKspeTqkyjn1fkICmAihyCMe/0W/ZAu+8Y65dS0s7+PGGDeGqq0yp6dAh8MpgXh7MmAFffw3ffFN+ejcoCLp3hyuvNKOmNWtaiyl2OP59QQKSCqDIIQLmjb6kxKxW/eADmDwZcnMPfq5OHTj/fHPr3RtiYqzFrDT5+TB/PsyaBTNnmtuh5yuHhZmp8osvNqt5k5PtZRXrAuZ9QQKKCqDIIQLyjT4vD6ZMMYsbvv22fBkMDYVTTzVl6MwzoWtX/1vk4PGYEzkWLjRbssyaBfPmQUFB+eelpMB555lbr17OLL5SIQH5viCOpwIocoiAf6PPzzejYVOmmGvgNmwo//mgIGje3EwTn3yyuW/XDmrUsJP3z/LyzPTtsmWwePHBW3r64c+tVQvOOMPc+vQxq6MDbepbjknAvy+II6kAihxCb/SH8HjMCtiZM+Gnn8xt3bojPzchAZo2PXhr2NDsO1h6q179xMuV2202Xd6504zo7dxprmNct84cgbd2LWzdeuSvDQqCZs3g9NNN4evWzeRU4ZNjoPcFcSIVQJFD6I3+b2zfbrZCWbjw4P3GjX//deHhpgTGxpqp1dhYcwsPN593uQ7eiovNNHRuLuTkHLxlZJhrF/9OfDy0aGFGJ9u3N7fWrbViVypM7wviRCqAIofQG30F5OSY0bc1aw7e0tJMWdy+3fvH0SUmQlKSWZhRpw40aQKNG5v7Jk3MdLRG9sSL9L4gThRiO4CIN02ZMoX/+7//Y+nSpURERNC9e3cmT55sO5azxcQcHGk7kvx8M2WbmQnZ2eVvRUVmqrn0Bma6NibGHKsWHX3wcc2a5rq90NCq+slERBxLBVAc47PPPmPw4ME8+eST9OrVi+LiYpaXHoUm9kREmGsCRUTEZ6gAiiMUFxdz55138uyzzzJo0KCyj7fUubciIiKHUQEUR1i4cCFbt24lKCiIDh06sGPHDtq3b8+zzz5L69at//LrCgoKKDhkP7jMzEzAXPMjIgIH3w90ybw4iQqgOML6A0d3PfLII7zwwgs0bNiQ559/nh49erB69Wpq/MU+dWPGjOHRRx897OMpKSmVmldE/E92djbx8fG2Y4h4hVYBi08bNWoUTz/99FGfs2LFChYuXMiAAQN48803ueWWWwAzulevXj0ef/xxbr311iN+7Z9HAN1uN3v27CEhIQGXH64kzcrKIiUlhbS0tIBZrRiIPzME5s9t62f2eDxkZ2dTp04dgoKCqux1RSqTRgDFp919990MHDjwqM9JTU1l+/btQPlr/sLDw0lNTWXz5s1/+bXh4eGEl+5Fd0C1atUqnNdXxMXFBUwpKBWIPzME5s9t42fWyJ84jQqg+LSaNWtSs2bNv33eKaecQnh4OKtWraJbt24AFBUVsXHjRho0aFDZMUVERPyKCqA4QlxcHEOGDOHhhx8mJSWFBg0a8OyzzwLQv39/y+lERER8iwqgOMazzz5LSEgI1113Hfv376dTp078+OOPVK9e3Xa0KhMeHs7DDz982LS2kwXizwyB+XMH4s8sUlm0CEREREQkwGg5k4iIiEiAUQEUERERCTAqgCIiIiIBRgVQREREJMCoAIo4zFNPPYXL5WLEiBG2o1S6rVu3cu2115KQkEBkZCRt2rRh/vz5tmNVmpKSEh588EEaNWpEZGQkjRs35rHHHnPcGbU//fQTF154IXXq1MHlcjF58uRyn/d4PDz00EPUrl2byMhI+vTpw5o1a+yEFfFTKoAiDjJv3jzefPNN2rZtaztKpdu7dy9du3YlNDSUb775hj/++IPnn3/e0dv+PP3007z++uu88sorrFixgqeffppnnnmGsWPH2o7mVbm5ubRr145XX331iJ9/5plnePnll3njjTf47bffiI6O5pxzziE/P7+Kk4r4L20DI+IQOTk5nHzyybz22ms8/vjjtG/fnhdffNF2rEozatQoZs+ezaxZs2xHqTIXXHABSUlJ/Pvf/y772GWXXUZkZCTvv/++xWSVx+VyMWnSJPr16weY0b86depw9913849//AOAzMxMkpKSePfdd7nqqqssphXxHxoBFHGIoUOHcv7559OnTx/bUarEl19+SceOHenfvz+1atWiQ4cOjB8/3nasStWlSxemTZvG6tWrAViyZAk///wz5557ruVkVWfDhg3s2LGj3P/n8fHxdOrUiV9++cViMhH/opNARBzgo48+YuHChcybN892lCqzfv16Xn/9dUaOHMl9993HvHnzuOOOOwgLC+OGG26wHa9SjBo1iqysLJo3b05wcDAlJSU88cQTDBgwwHa0KrNjxw4AkpKSyn08KSmp7HMi8vdUAEX8XFpaGnfeeSfff/89ERERtuNUGbfbTceOHXnyyScB6NChA8uXL+eNN95wbAH8+OOP+eCDD5gwYQKtWrVi8eLFjBgxgjp16jj2ZxaRyqEpYBE/t2DBAtLT0zn55JMJCQkhJCSEmTNn8vLLLxMSEkJJSYntiJWidu3atGzZstzHWrRowebNmy0lqnz//Oc/GTVqFFdddRVt2rThuuuu46677mLMmDG2o1WZ5ORkAHbu3Fnu4zt37iz7nIj8PRVAET/Xu3dvli1bxuLFi8tuHTt2ZMCAASxevJjg4GDbEStF165dWbVqVbmPrV69mgYNGlhKVPny8vIICir/th0cHIzb7baUqOo1atSI5ORkpk2bVvaxrKwsfvvtNzp37mwxmYh/0RSwiJ+LjY2ldevW5T4WHR1NQkLCYR93krvuuosuXbrw5JNPcsUVVzB37lzGjRvHuHHjbEerNBdeeCFPPPEE9evXp1WrVixatIgXXniBm266yXY0r8rJyWHt2rVlv96wYQOLFy+mRo0a1K9fnxEjRvD444/TtGlTGjVqxIMPPkidOnXKVgqLyN/TNjAiDtSjRw/HbwMD8NVXXzF69GjWrFlDo0aNGDlyJIMHD7Ydq9JkZ2fz4IMPMmnSJNLT06lTpw5XX301Dz30EGFhYbbjec2MGTPo2bPnYR+/4YYbePfdd/F4PDz88MOMGzeOffv20a1bN1577TWaNWtmIa2If1IBFBEREQkwugZQREREJMCoAIqIiIgEGBVAERERkQCjAigiIiISYFQARURERAKMCqCIiIhIgFEBFBEREQkwKoAiIiIiAUYFUERERCTAqACKiBzQo0cPXC4XLpeLxYsXV/j7DBw4sOz7TJ482Wv5RES8RQVQRBype/fuZSUsLCyMFi1aMGHChL/9usGDB7N9+3Zat25d4dd+6aWX2L59e4W/XkSksqkAiojjeDweFi1axHPPPcf27dtZtWoVffv25frrr2fDhg1H/dqoqCiSk5MJCQmp8OvHx8eTnJxc4a8XEalsKoAi4jhr1qwhOzubvn37kpycTKNGjRg0aBAlJSWsWrXquL5Xjx49GD58OCNGjKB69eokJSUxfvx4cnNzufHGG4mNjaVJkyZ88803lfTTiIh4nwqgiDjOggULqF69Oi1btgRgy5Yt3H///YSHh9O2bdvj/n7vvfceiYmJzJ07l+HDh3PbbbfRv39/unTpwsKFCzn77LO57rrryMvL8/aPIiJSKVQARcRxFi5cSGZmJrGxsURGRpKSksL333/PG2+8QZ06dY77+7Vr144HHniApk2bMnr0aCIiIkhMTGTw4ME0bdqUhx56iN27d7N06dJK+GlERLxPBVBEHGfhwoUMHTqUxYsXM2vWLLp3785dd93FwIEDK/T9Dh01DA4OJiEhgTZt2pR9LCkpCYD09PQTyi0iUlVUAEXEcRYuXEiXLl1o0qQJHTt25LXXXuPpp59m48aNFfp+oaGh5X7tcrnKfczlcgHgdrsrnFlEpCqpAIqIo6xfv559+/aV28alZcuWNG7c+Ji2gRERCQQqgCLiKAsWLCA0NJRmzZqV+3jv3r2ZNGmSpVQiIr5FBVBEHGXhwoU0bdqUsLCwch/v06cPCxYsYMuWLZaSiYj4DpfH4/HYDiEi4gt69OhB+/btefHFF73y/VwuF5MmTaJfv35e+X4iIt6iEUARkUO89tprxMTEsGzZsgp/jyFDhhATE+PFVCIi3qURQBGRA7Zu3cr+/fsBqF+//mHTyMcqPT2drKwsAGrXrk10dLTXMoqIeIMKoIiIiEiA0RSwiIiISIBRARQREREJMCqAIiIiIgFGBVBEREQkwKgAioiIiAQYFUARERGRAKMCKCIiIhJg/h9UmSS67bGPCAAAAABJRU5ErkJggg==' width=640.0/>\n",
       "            </div>\n",
       "        "
      ],
      "text/plain": [
       "Canvas(toolbar=Toolbar(toolitems=[('Home', 'Reset original view', 'home', 'home'), ('Back', 'Back to previous …"
      ]
     },
     "metadata": {},
     "output_type": "display_data"
    }
   ],
   "source": [
    "def RZ_plasma(th, R0, delta, kappa):\n",
    "    R = R0 + a * np.cos(th + delta * np.sin(th))\n",
    "    Z = kappa * a * np.sin(th)\n",
    "    return R, Z\n",
    "\n",
    "def RZ_coil(th, R_e, R2, R1):\n",
    "    k = 1/2 * np.log(R2/R1)\n",
    "    r0 = np.sqrt(R_e  * R2)\n",
    "    haa = 2 * pi * r0 * k * iv(1,k)\n",
    "\n",
    "    print(haa)\n",
    "    \n",
    "    R = r0 * np.exp(k * np.sin(th))\n",
    "    R[R < R_e] = R_e\n",
    "    \n",
    "    ith = (R > R_e)\n",
    "    #mith = (R > R_e) & (th < 3 * pi/2)\n",
    "    \n",
    "    #ith = (pi/2 <= th) & (th < 3 * pi/2)\n",
    "\n",
    "    dZ = np.diff(R) * np.tan(th[1:])\n",
    "    Z = np.zeros_like(R)\n",
    "    Z[1:] = np.cumsum(dZ)\n",
    "    \n",
    "    #Z[(R > R_e)] = (R - r0) * tan(th)\n",
    "    #Z[R > R_e & th > pi] = -Z_upper\n",
    "    #Z[R==0] = 0\n",
    "    return R, Z, haa\n",
    "    \n",
    "Theta = np.linspace(0, 2 * pi, 200, endpoint=True)\n",
    "R_plasma, Z_plasma = RZ_plasma(Theta, R0, delta, kappa)\n",
    "\n",
    "Theta = np.linspace(pi/2, 3 *pi/2-1e-2, 200, endpoint=True)\n",
    "R_coil, Z_coil, haa = RZ_coil(Theta, R_e, R2, R_e)\n",
    "\n",
    "fig, ax = plt.subplots()\n",
    "ax.plot(R_plasma, Z_plasma, label='plasma')\n",
    "\n",
    "ax.plot(R_coil, Z_coil, color='red', label='TF coil')\n",
    "ax.plot(R_coil, -Z_coil, color='red')\n",
    "ax.plot(np.array([R_e, R_e]), np.array([-haa/2, haa/2]), color='black')\n",
    "\n",
    "ax.set_aspect('equal')\n",
    "ax.set_xlabel('$R$ [m]')\n",
    "ax.set_ylabel('$Z$ [m]')\n",
    "ax.set_ylim(-6, 6)\n",
    "\n",
    "ax.legend(loc='upper right', framealpha=1)"
   ]
  },
  {
   "cell_type": "code",
   "execution_count": null,
   "metadata": {},
   "outputs": [],
   "source": []
  },
  {
   "cell_type": "markdown",
   "metadata": {},
   "source": [
    "### Current density in the cable\n",
    "\n",
    "Using the assumptions listed on sl. 26:\n",
    "\n",
    "$$ I_c\\,[\\text{A}] = -20.427 \\cdot B \\, [\\text{T}] + 308.3 $$\n",
    "\n",
    "Also, $A_\\text{Cu} = A_\\text{Sc}$ and $A_\\text{void} = 0.3 \\, (A_\\text{Cu} + A_\\text{Sc})$, where $A_\\text{cable} = A_\\text{Cu} + A_\\text{Sc} + A_\\text{void} + A_\\text{inner}$ stands for the cros-sectional area of the cable. What is the current density then?"
   ]
  },
  {
   "cell_type": "code",
   "execution_count": 54,
   "metadata": {},
   "outputs": [
    {
     "data": {
      "text/plain": [
       "(126.05811942289367,\n",
       " 52.59031219750658,\n",
       " 145.57742756680324,\n",
       " 0.0012930138110726795,\n",
       " 0.04057482367363358,\n",
       " 0.0010066229787641257,\n",
       " 8.57195212075677)"
      ]
     },
     "execution_count": 54,
     "metadata": {},
     "output_type": "execute_result"
    }
   ],
   "source": [
    "I_cable = 68e3 # A\n",
    "\n",
    "# number of windings per coil (using previously found Ampere Law and number of coils):\n",
    "def N_wind(B_tmax, R_e, N_TF):\n",
    "    return 2 * pi / mu_0 * B_tmax * R_e / N_TF / I_cable\n",
    "\n",
    "def I_c(B):\n",
    "    return -20.427 * B + 308.3\n",
    "\n",
    "def A_inner():\n",
    "    return pi * (0.01/2)**2\n",
    "\n",
    "def A_cable(A_sc):\n",
    "    return 2.6 * A_sc + A_inner()\n",
    "\n",
    "def L_coil(N_wind, R2, R1, R_e):\n",
    "    \"\"\" Coil inductance \"\"\"\n",
    "    k = 1/2 * np.log(R2/R1)\n",
    "    r0 = np.sqrt(R_e  * R2)\n",
    "    return mu_0 * r0 * N_wind**2 * k**2 / 2 * (iv(0,k) + 2 * iv(1,k) + iv(2,k))\n",
    "\n",
    "r_strand = 0.4e-3 # m\n",
    "A_strand = pi * r_strand**2\n",
    "A_sc     = A_strand * I_cable / I_c(B_tmax)\n",
    "j_sc     = I_cable / A_sc\n",
    "j_cable  = I_cable / A_cable(A_sc)\n",
    "D_cable  = 2 * (A_cable(A_sc) / pi)**0.5\n",
    "I_coil   = I_cable * N_wind(B_tmax, R_e, N_TF)\n",
    "_L_coil  = L_coil(N_TF, R2, R_e, R_e)\n",
    "\n",
    "N_wind(B_tmax, R_e, N_TF), j_cable * 1e-6, j_sc * 1e-6, A_cable(A_sc), D_cable, _L_coil, I_coil/1e6"
   ]
  },
  {
   "cell_type": "code",
   "execution_count": 55,
   "metadata": {},
   "outputs": [
    {
     "data": {
      "text/plain": [
       "(162.8670902943786, 162.86709029437864)"
      ]
     },
     "execution_count": 55,
     "metadata": {},
     "output_type": "execute_result"
    }
   ],
   "source": [
    "I_coil * N_TF / 1e6, 2*pi / mu_0 * B_tmax * R_e / 1e6"
   ]
  },
  {
   "cell_type": "markdown",
   "metadata": {},
   "source": [
    "### Energy in the TF system\n",
    "$U_\\text{coil} = \\frac{1}{2} L I^2$"
   ]
  },
  {
   "cell_type": "code",
   "execution_count": 52,
   "metadata": {},
   "outputs": [
    {
     "name": "stdout",
     "output_type": "stream",
     "text": [
      "702.6675835941243 GJ\n"
     ]
    }
   ],
   "source": [
    "U_coil = 0.5 * _L_coil * I_coil**2\n",
    "print(U_coil * N_TF / 1e9, 'GJ')"
   ]
  },
  {
   "cell_type": "markdown",
   "metadata": {},
   "source": [
    "### CS magnetic field ###\n",
    "For a long solenoid of length $l$, we have $B\\approx \\mu_0 N I / l$."
   ]
  },
  {
   "cell_type": "code",
   "execution_count": null,
   "metadata": {},
   "outputs": [],
   "source": []
  }
 ],
 "metadata": {
  "kernelspec": {
   "display_name": "Python 3",
   "language": "python",
   "name": "python3"
  },
  "language_info": {
   "codemirror_mode": {
    "name": "ipython",
    "version": 3
   },
   "file_extension": ".py",
   "mimetype": "text/x-python",
   "name": "python",
   "nbconvert_exporter": "python",
   "pygments_lexer": "ipython3",
   "version": "3.8.10"
  }
 },
 "nbformat": 4,
 "nbformat_minor": 4
}
